{
  "nbformat": 4,
  "nbformat_minor": 0,
  "metadata": {
    "colab": {
      "provenance": []
    },
    "kernelspec": {
      "name": "python3",
      "display_name": "Python 3"
    },
    "language_info": {
      "name": "python"
    }
  },
  "cells": [
    {
      "cell_type": "markdown",
      "source": [
        "## Q1. What is the meaning of multiple inheritance?\n",
        "\n",
        "Answer:- Multiple inheritance is a feature of some object-oriented computer programming languages in which an object or class can inherit features from more than one parent object or parent class. It is distinct from single inheritance, where an object or class may only inherit from one particular object or class."
      ],
      "metadata": {
        "id": "ei6Dnk4TlsDU"
      }
    },
    {
      "cell_type": "code",
      "source": [],
      "metadata": {
        "id": "RPsNzXVFl0rT"
      },
      "execution_count": null,
      "outputs": []
    },
    {
      "cell_type": "markdown",
      "source": [
        "## Q2. What is the concept of delegation?\n",
        "\n",
        "Answer:- Delegation is commonly defined as the shifting of authority and responsibility for particular functions, tasks or decisions from one person (usually a leader or manager) to another."
      ],
      "metadata": {
        "id": "OU3ZdWUQl1GL"
      }
    },
    {
      "cell_type": "code",
      "source": [],
      "metadata": {
        "id": "TPEMv6T4l8gC"
      },
      "execution_count": null,
      "outputs": []
    },
    {
      "cell_type": "markdown",
      "source": [
        "## Q3. What is the concept of composition?\n",
        "\n",
        "Answer:- Composition is a concept that models a has a relationship. It enables creating complex types by combining objects of other types. This means that a class Composite can contain an object of another class Component . This relationship means that a Composite has a Component "
      ],
      "metadata": {
        "id": "kO9o6xEHl9KT"
      }
    },
    {
      "cell_type": "code",
      "source": [],
      "metadata": {
        "id": "IMLjVYIsmHX8"
      },
      "execution_count": null,
      "outputs": []
    },
    {
      "cell_type": "markdown",
      "source": [
        "## Q4. What are bound methods and how do we use them?\n",
        "\n",
        "Answer;- A bound method is the one which is dependent on the instance of the class as the first argument. It passes the instance as the first argument which is used to access the variables and functions. In Python 3 and newer versions of python, all functions in the class are by default bound methods\n"
      ],
      "metadata": {
        "id": "Tpy59_IVmH9c"
      }
    },
    {
      "cell_type": "code",
      "source": [],
      "metadata": {
        "id": "cAVTFrYImPx-"
      },
      "execution_count": null,
      "outputs": []
    },
    {
      "cell_type": "markdown",
      "source": [
        "## Q5. What is the purpose of pseudoprivate attributes?\n",
        "\n",
        "Answer:- Private attributes are essential attributes of a class that can only be accessed within the class itself. If you have worked with languages like Java before, you might know that private attributes are made private using the private keyword. However, Python has no private keyword."
      ],
      "metadata": {
        "id": "uFsACdU5mQY6"
      }
    }
  ]
}